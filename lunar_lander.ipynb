{
 "cells": [
  {
   "cell_type": "markdown",
   "id": "511f1834",
   "metadata": {},
   "source": [
    "# Install Packages"
   ]
  },
  {
   "cell_type": "code",
   "execution_count": 11,
   "id": "148c88df",
   "metadata": {},
   "outputs": [],
   "source": [
    "import random\n",
    "import sys\n",
    "from time import time\n",
    "from collections import deque, defaultdict, namedtuple\n",
    "import numpy as np\n",
    "import pandas as pd\n",
    "import gym\n",
    "import torch\n",
    "import torch.nn as nn\n",
    "import torch.nn.functional as F\n",
    "import torch.optim as optim\n",
    "\n",
    "import matplotlib.pyplot as plt\n",
    "%matplotlib inline\n",
    "\n",
    "#plt.style.use('seaborn')\n",
    "plt.style.use('fivethirtyeight')"
   ]
  },
  {
   "cell_type": "markdown",
   "id": "be2284ac",
   "metadata": {},
   "source": [
    "# Create Gym Environment"
   ]
  },
  {
   "cell_type": "code",
   "execution_count": 12,
   "id": "aa5d5303",
   "metadata": {},
   "outputs": [
    {
     "name": "stdout",
     "output_type": "stream",
     "text": [
      "Discrete(4)\n",
      "Box([-1.5       -1.5       -5.        -5.        -3.1415927 -5.\n",
      " -0.        -0.       ], [1.5       1.5       5.        5.        3.1415927 5.        1.\n",
      " 1.       ], (8,), float32)\n"
     ]
    }
   ],
   "source": [
    "env = gym.make('LunarLander-v2')\n",
    "state = env.reset(seed=42)\n",
    "print(env.action_space)\n",
    "print(env.observation_space)"
   ]
  },
  {
   "cell_type": "markdown",
   "id": "721c286a",
   "metadata": {},
   "source": [
    "# Random Action Agent"
   ]
  },
  {
   "cell_type": "code",
   "execution_count": 13,
   "id": "2f97a27e",
   "metadata": {},
   "outputs": [],
   "source": [
    "max_episodes = 100"
   ]
  },
  {
   "cell_type": "code",
   "execution_count": 14,
   "id": "22509e09",
   "metadata": {},
   "outputs": [
    {
     "name": "stdout",
     "output_type": "stream",
     "text": [
      "Episode 20,  score: -258.70856078524105\n",
      "Episode 40,  score: -350.61553513889\n",
      "Episode 60,  score: -121.87785834165237\n",
      "Episode 80,  score: -321.29790443792217\n",
      "Episode 100,  score: -608.9212950532196\n"
     ]
    }
   ],
   "source": [
    "scores = []\n",
    "actions = range(env.action_space.n)\n",
    "for i in range(1, max_episodes+1):\n",
    "    state = env.reset()\n",
    "    score = 0\n",
    "    while True:\n",
    "        action = np.random.choice(actions)\n",
    "        state, reward, done, info, a = env.step(action)\n",
    "        score += reward\n",
    "        if done:\n",
    "            if i % 20 == 0:\n",
    "                print('Episode {},  score: {}'.format(i, score))\n",
    "            break\n",
    "    \n",
    "    scores.append(score)"
   ]
  },
  {
   "cell_type": "code",
   "execution_count": 15,
   "id": "7fa1c485",
   "metadata": {},
   "outputs": [
    {
     "name": "stdout",
     "output_type": "stream",
     "text": [
      "[-122.19892403151773, -368.3027877536328, -122.2036863608206, -93.51048679431742, -107.31071501143722, -227.90984406783937, -327.7786412968537, -89.38495217938943, -364.9156544409085, -95.40532264793222, -169.16145918427873, -145.97884051560186, -380.3894154200558, -206.70551911114853, -62.68741992754673, -298.73152702056416, -88.71997157626627, -152.27241418508567, -94.21331485863766, -258.70856078524105, -81.28704865234117, -183.56976364382916, -109.7067229910871, -107.24179884683889, -261.3675154277838, -309.2858481426118, -73.83017009804234, -102.66692103977672, -119.77861615072854, -134.43829529289954, -330.2966102843151, -143.94685575641392, -214.48815992767663, -95.59371707419274, -135.27662019472962, -246.61329978624303, -58.80755636638108, -289.58423588311007, -149.13060803044849, -350.61553513889, -208.39426256839823, -101.34678683723939, -157.64608123484328, -127.59085216165417, -152.2302628769002, -88.8255330952528, -305.59667682224244, -180.22452145976246, -425.2666320725479, -175.18189659944176, -338.6843123765709, -189.04994647414898, -56.28659783019234, -184.25524894176135, -72.25643978939429, -395.14358105771316, -213.1448307382475, -300.9383413160117, -162.17066441829041, -121.87785834165237, -180.1130950492348, -93.38921928341084, -156.04885275924366, -136.0456212802817, -41.843824414536925, -114.56933097049868, -265.2303826767443, -335.8224612049969, -425.4403655054358, -86.48149462831917, -31.68605843773902, -83.55346092920976, -52.75714500608454, -101.7919665502131, -361.6991092352596, -133.6233012657217, -239.80567865413968, -142.46673417701874, -94.81837777864396, -321.29790443792217, -122.71072267999658, -111.76763358710164, -88.79384565404791, -273.5986689305301, -349.1605964665142, -87.57136368469385, -347.2963335721706, -154.95486567330892, -144.3779032442287, -17.021543790423806, -80.26818955925752, -124.18633313832557, -246.68107304678023, -66.37677179401862, -61.70927881324717, -96.30114905561993, -458.5150164699418, -148.36895656484825, -123.80312982019015, -608.9212950532196]\n"
     ]
    }
   ],
   "source": [
    "print(scores)"
   ]
  },
  {
   "cell_type": "markdown",
   "id": "c2c9d495",
   "metadata": {},
   "source": [
    "# Average score"
   ]
  },
  {
   "cell_type": "code",
   "execution_count": 16,
   "id": "b0d03df7",
   "metadata": {},
   "outputs": [
    {
     "name": "stdout",
     "output_type": "stream",
     "text": [
      "Average score of random agent over 100 episodes: -183.41\n"
     ]
    }
   ],
   "source": [
    "# Average score\n",
    "print('Average score of random agent over {} episodes: {:.2f}'.format(max_episodes, np.mean(scores)))"
   ]
  },
  {
   "cell_type": "code",
   "execution_count": null,
   "id": "c27eb9e9",
   "metadata": {},
   "outputs": [],
   "source": []
  }
 ],
 "metadata": {
  "kernelspec": {
   "display_name": "Python 3 (ipykernel)",
   "language": "python",
   "name": "python3"
  },
  "language_info": {
   "codemirror_mode": {
    "name": "ipython",
    "version": 3
   },
   "file_extension": ".py",
   "mimetype": "text/x-python",
   "name": "python",
   "nbconvert_exporter": "python",
   "pygments_lexer": "ipython3",
   "version": "3.9.13"
  }
 },
 "nbformat": 4,
 "nbformat_minor": 5
}
