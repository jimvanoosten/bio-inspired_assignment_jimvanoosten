{
 "cells": [
  {
   "cell_type": "markdown",
   "id": "511f1834",
   "metadata": {},
   "source": [
    "# Install Packages"
   ]
  },
  {
   "cell_type": "code",
   "execution_count": 21,
   "id": "148c88df",
   "metadata": {},
   "outputs": [],
   "source": [
    "import random\n",
    "import sys\n",
    "from time import time\n",
    "from collections import deque, defaultdict, namedtuple\n",
    "import numpy as np\n",
    "import pandas as pd\n",
    "import gym\n",
    "import torch\n",
    "import torch.nn as nn\n",
    "import torch.nn.functional as F\n",
    "import torch.optim as optim\n",
    "\n",
    "import matplotlib.pyplot as plt\n",
    "%matplotlib inline\n",
    "\n",
    "#plt.style.use('seaborn')\n",
    "plt.style.use('fivethirtyeight')"
   ]
  },
  {
   "cell_type": "markdown",
   "id": "be2284ac",
   "metadata": {},
   "source": [
    "# Create Gym Environment"
   ]
  },
  {
   "cell_type": "code",
   "execution_count": 7,
   "id": "aa5d5303",
   "metadata": {},
   "outputs": [
    {
     "name": "stdout",
     "output_type": "stream",
     "text": [
      "Discrete(4)\n",
      "Box([-1.5       -1.5       -5.        -5.        -3.1415927 -5.\n",
      " -0.        -0.       ], [1.5       1.5       5.        5.        3.1415927 5.        1.\n",
      " 1.       ], (8,), float32)\n"
     ]
    }
   ],
   "source": [
    "env = gym.make('LunarLander-v2')\n",
    "state = env.reset(seed=42)\n",
    "print(env.action_space)\n",
    "print(env.observation_space)"
   ]
  },
  {
   "cell_type": "markdown",
   "id": "721c286a",
   "metadata": {},
   "source": [
    "# Random Action Agent"
   ]
  },
  {
   "cell_type": "code",
   "execution_count": 8,
   "id": "2f97a27e",
   "metadata": {},
   "outputs": [],
   "source": [
    "max_episodes = 100"
   ]
  },
  {
   "cell_type": "code",
   "execution_count": 9,
   "id": "22509e09",
   "metadata": {},
   "outputs": [
    {
     "name": "stdout",
     "output_type": "stream",
     "text": [
      "Episode 20,  score: -228.02637327435502\n",
      "Episode 40,  score: -91.48089981517455\n",
      "Episode 60,  score: -76.53302362181356\n",
      "Episode 80,  score: -125.7813334352932\n",
      "Episode 100,  score: -78.60340719280794\n"
     ]
    }
   ],
   "source": [
    "scores = []\n",
    "actions = range(env.action_space.n)\n",
    "for i in range(1, max_episodes+1):\n",
    "    state = env.reset()\n",
    "    score = 0\n",
    "    while True:\n",
    "        action = np.random.choice(actions)\n",
    "        state, reward, done, info, a = env.step(action)\n",
    "        score += reward\n",
    "        if done:\n",
    "            if i % 20 == 0:\n",
    "                print('Episode {},  score: {}'.format(i, score))\n",
    "            break\n",
    "    \n",
    "    scores.append(score)"
   ]
  },
  {
   "cell_type": "code",
   "execution_count": 10,
   "id": "7fa1c485",
   "metadata": {},
   "outputs": [
    {
     "name": "stdout",
     "output_type": "stream",
     "text": [
      "[-536.1012931620804, -247.69584647217357, -228.80727884068878, -125.70529702464454, -438.76981693578256, -445.15107309473444, -123.44738109609045, -106.869862135094, -186.91249684620635, -159.9130703298275, -121.77617128004853, -114.68331458457253, -115.79819159689592, -79.77304484045814, -293.81082651885635, -86.91732312025852, -117.50036919749786, -189.9006351890523, -46.208543253350626, -228.02637327435502, -179.96754771251966, -159.40829044184517, -116.26679685409529, -110.839950708697, -95.77967195562847, -80.1134841682163, -180.76892988278217, -248.39042888432695, -224.12075234103202, -174.88147138796057, -92.13725682073571, -402.2781958729055, -212.2240533954261, -84.83402030777481, -305.0412305358168, -150.03106627174736, -220.8505327931294, -170.884345085677, -277.2501342799069, -91.48089981517455, -322.0529905728256, -142.53122390949588, -90.81869333707812, -4.108576831037382, -54.670155038195006, -44.23573346493359, -491.7820035457028, -110.24920089184803, -208.36587984805504, -96.304473621051, -215.48175524004068, -265.5233911511117, -119.11071622960637, -326.3547281123538, -364.5611606726103, -109.09219210589453, -193.8902317184019, -123.07274061803176, -177.91716358365812, -76.53302362181356, -308.8008805614752, -413.8020792269252, -128.04802916320318, -191.555930617203, -314.99074305375495, -99.82668712059873, -80.46437210328467, -161.45336919527864, -223.8992834426082, -289.8624639928015, -226.81281075533843, -132.69517861148256, -69.2940640473068, -242.1327236926974, -163.9371431595776, -119.48588694850454, -329.38892624731716, -86.20337983800337, -104.0071152866229, -125.7813334352932, -79.4830201132497, -308.39199798373846, -353.13534908291626, -101.46940961030252, -349.3290063996725, -72.08639784068191, 12.579343487760966, -159.63068078460196, -53.507713411339914, -155.7997152993797, -179.4024570367418, -183.14609788308678, -492.82801771196, -353.8170700452698, -133.86813944861905, -313.8460545315244, -56.61764522398808, 6.637579725727406, -195.29817508259657, -78.60340719280794]\n"
     ]
    }
   ],
   "source": [
    "plt.figure(figsize=(8,6))\n",
    "plt.plot(range(max_episodes), scores)\n",
    "plt.title('Performance of Random Agent')\n",
    "plt.xlabel('Episodes')\n",
    "plt.ylabel('Score')\n",
    "plt.show()"
   ]
  },
  {
   "cell_type": "markdown",
   "id": "c2c9d495",
   "metadata": {},
   "source": [
    "# Average score"
   ]
  },
  {
   "cell_type": "code",
   "execution_count": 11,
   "id": "b0d03df7",
   "metadata": {},
   "outputs": [
    {
     "name": "stdout",
     "output_type": "stream",
     "text": [
      "Average score of random agent over 100 episodes: -185.21\n"
     ]
    }
   ],
   "source": [
    "# Average score\n",
    "print('Average score of random agent over {} episodes: {:.2f}'.format(max_episodes, np.mean(scores)))"
   ]
  },
  {
   "cell_type": "markdown",
   "id": "7c8c7d92",
   "metadata": {},
   "source": [
    "# Deep Q Network (DQN)"
   ]
  },
  {
   "cell_type": "code",
   "execution_count": 12,
   "id": "24be9dd5",
   "metadata": {},
   "outputs": [],
   "source": [
    "# Use cuda if available else use cpu\n",
    "device = torch.device('cuda:0' if torch.cuda.is_available() else 'cpu')"
   ]
  },
  {
   "cell_type": "markdown",
   "id": "4754e771",
   "metadata": {},
   "source": [
    "# Q Network"
   ]
  },
  {
   "cell_type": "code",
   "execution_count": 13,
   "id": "4d910754",
   "metadata": {},
   "outputs": [],
   "source": [
    "class QNetwork(nn.Module):\n",
    "    def __init__(self, state_size, action_size, seed):\n",
    "        \"\"\"\n",
    "        Build a fully connected neural network\n",
    "        \n",
    "        Parameters\n",
    "        ----------\n",
    "        state_size (int): State dimension\n",
    "        action_size (int): Action dimension\n",
    "        seed (int): random seed\n",
    "        \"\"\"\n",
    "        super(QNetwork, self).__init__()\n",
    "        self.seed = torch.manual_seed(seed)\n",
    "        self.fc1 = nn.Linear(state_size, 32)\n",
    "        self.fc2 = nn.Linear(32, 64)\n",
    "        self.fc3 = nn.Linear(64, action_size)  \n",
    "        \n",
    "    def forward(self, x):\n",
    "        \"\"\"Forward pass\"\"\"\n",
    "        x = F.relu(self.fc1(x))\n",
    "        x = F.relu(self.fc2(x))\n",
    "        x = self.fc3(x)\n",
    "        \n",
    "        return x  "
   ]
  },
  {
   "cell_type": "markdown",
   "id": "edbae8bf",
   "metadata": {},
   "source": [
    "# Replay Buffer"
   ]
  },
  {
   "cell_type": "code",
   "execution_count": 14,
   "id": "76f5d90e",
   "metadata": {},
   "outputs": [],
   "source": [
    "class ReplayBuffer:\n",
    "    def __init__(self, buffer_size, batch_size, seed):\n",
    "        \"\"\"\n",
    "        Replay memory allow agent to record experiences and learn from them\n",
    "        \n",
    "        Parametes\n",
    "        ---------\n",
    "        buffer_size (int): maximum size of internal memory\n",
    "        batch_size (int): sample size from experience\n",
    "        seed (int): random seed\n",
    "        \"\"\"\n",
    "        self.batch_size = batch_size\n",
    "        self.seed = random.seed(seed)\n",
    "        self.memory = deque(maxlen=buffer_size)\n",
    "        self.experience = namedtuple(\"Experience\", field_names=[\"state\", \"action\", \"reward\", \"next_state\", \"done\"])\n",
    "    \n",
    "    def add(self, state, action, reward, next_state, done):\n",
    "        \"\"\"Add experience\"\"\"\n",
    "        experience = self.experience(state, action, reward, next_state, done)\n",
    "        self.memory.append(experience)\n",
    "                \n",
    "    def sample(self):\n",
    "        \"\"\" \n",
    "        Sample randomly and return (state, action, reward, next_state, done) tuple as torch tensors \n",
    "        \"\"\"\n",
    "        experiences = random.sample(self.memory, k=self.batch_size)\n",
    "        \n",
    "        # Convert to torch tensors\n",
    "        states = torch.from_numpy(np.vstack([experience.state for experience in experiences if experience is not None])).float().to(device)\n",
    "        actions = torch.from_numpy(np.vstack([experience.action for experience in experiences if experience is not None])).long().to(device)        \n",
    "        rewards = torch.from_numpy(np.vstack([experience.reward for experience in experiences if experience is not None])).float().to(device)        \n",
    "        next_states = torch.from_numpy(np.vstack([experience.next_state for experience in experiences if experience is not None])).float().to(device)  \n",
    "        # Convert done from boolean to int\n",
    "        dones = torch.from_numpy(np.vstack([experience.done for experience in experiences if experience is not None]).astype(np.uint8)).float().to(device)        \n",
    "        \n",
    "        return (states, actions, rewards, next_states, dones)\n",
    "        \n",
    "    def __len__(self):\n",
    "        return len(self.memory)"
   ]
  },
  {
   "cell_type": "markdown",
   "id": "6705ae81",
   "metadata": {},
   "source": [
    "# Agent"
   ]
  },
  {
   "cell_type": "code",
   "execution_count": 15,
   "id": "dd9e9ca8",
   "metadata": {},
   "outputs": [],
   "source": [
    "BUFFER_SIZE = int(1e5) # Replay memory size\n",
    "BATCH_SIZE = 64         # Number of experiences to sample from memory\n",
    "GAMMA = 0.99            # Discount factor\n",
    "TAU = 1e-3              # Soft update parameter for updating fixed q network\n",
    "LR = 1e-4               # Q Network learning rate\n",
    "UPDATE_EVERY = 4        # How often to update Q network\n",
    "\n",
    "class DQNAgent:\n",
    "    def __init__(self, state_size, action_size, seed):\n",
    "        \"\"\"\n",
    "        DQN Agent interacts with the environment, \n",
    "        stores the experience and learns from it\n",
    "        \n",
    "        Parameters\n",
    "        ----------\n",
    "        state_size (int): Dimension of state\n",
    "        action_size (int): Dimension of action\n",
    "        seed (int): random seed\n",
    "        \"\"\"\n",
    "        self.state_size = state_size\n",
    "        self.action_size = action_size\n",
    "        self.seed = random.seed(seed)\n",
    "        # Initialize Q and Fixed Q networks\n",
    "        self.q_network = QNetwork(state_size, action_size, seed).to(device)\n",
    "        self.fixed_network = QNetwork(state_size, action_size, seed).to(device)\n",
    "        self.optimizer = optim.Adam(self.q_network.parameters())\n",
    "        # Initiliase memory \n",
    "        self.memory = ReplayBuffer(BUFFER_SIZE, BATCH_SIZE, seed)\n",
    "        self.timestep = 0\n",
    "        \n",
    "    \n",
    "    def step(self, state, action, reward, next_state, done):\n",
    "        \"\"\"\n",
    "        Update Agent's knowledge\n",
    "        \n",
    "        Parameters\n",
    "        ----------\n",
    "        state (array_like): Current state of environment\n",
    "        action (int): Action taken in current state\n",
    "        reward (float): Reward received after taking action \n",
    "        next_state (array_like): Next state returned by the environment after taking action\n",
    "        done (bool): whether the episode ended after taking action\n",
    "        \"\"\"\n",
    "        self.memory.add(state, action, reward, next_state, done)\n",
    "        self.timestep += 1\n",
    "        if self.timestep % UPDATE_EVERY == 0:\n",
    "            if len(self.memory) > BATCH_SIZE:\n",
    "                sampled_experiences = self.memory.sample()\n",
    "                self.learn(sampled_experiences)\n",
    "        \n",
    "    def learn(self, experiences):\n",
    "        \"\"\"\n",
    "        Learn from experience by training the q_network \n",
    "        \n",
    "        Parameters\n",
    "        ----------\n",
    "        experiences (array_like): List of experiences sampled from agent's memory\n",
    "        \"\"\"\n",
    "        states, actions, rewards, next_states, dones = experiences\n",
    "        # Get the action with max Q value\n",
    "        action_values = self.fixed_network(next_states).detach()\n",
    "        # Notes\n",
    "        # tensor.max(1)[0] returns the values, tensor.max(1)[1] will return indices\n",
    "        # unsqueeze operation --> np.reshape\n",
    "        # Here, we make it from torch.Size([64]) -> torch.Size([64, 1])\n",
    "        max_action_values = action_values.max(1)[0].unsqueeze(1)\n",
    "        \n",
    "        # If done just use reward, else update Q_target with discounted action values\n",
    "        Q_target = rewards + (GAMMA * max_action_values * (1 - dones))\n",
    "        Q_expected = self.q_network(states).gather(1, actions)\n",
    "        \n",
    "        # Calculate loss\n",
    "        loss = F.mse_loss(Q_expected, Q_target)\n",
    "        self.optimizer.zero_grad()\n",
    "        # backward pass\n",
    "        loss.backward()\n",
    "        # update weights\n",
    "        self.optimizer.step()\n",
    "        \n",
    "        # Update fixed weights\n",
    "        self.update_fixed_network(self.q_network, self.fixed_network)\n",
    "        \n",
    "    def update_fixed_network(self, q_network, fixed_network):\n",
    "        \"\"\"\n",
    "        Update fixed network by copying weights from Q network using TAU param\n",
    "        \n",
    "        Parameters\n",
    "        ----------\n",
    "        q_network (PyTorch model): Q network\n",
    "        fixed_network (PyTorch model): Fixed target network\n",
    "        \"\"\"\n",
    "        for source_parameters, target_parameters in zip(q_network.parameters(), fixed_network.parameters()):\n",
    "            target_parameters.data.copy_(TAU * source_parameters.data + (1.0 - TAU) * target_parameters.data)\n",
    "        \n",
    "        \n",
    "    def act(self, state, eps=0.0):\n",
    "        \"\"\"\n",
    "        Choose the action\n",
    "        \n",
    "        Parameters\n",
    "        ----------\n",
    "        state (array_like): current state of environment\n",
    "        eps (float): epsilon for epsilon-greedy action selection\n",
    "        \"\"\"\n",
    "        rnd = random.random()\n",
    "        if rnd < eps:\n",
    "            return np.random.randint(self.action_size)\n",
    "        else:\n",
    "            state = torch.from_numpy(state).float().unsqueeze(0).to(device)\n",
    "            # set the network into evaluation mode \n",
    "            self.q_network.eval()\n",
    "            with torch.no_grad():\n",
    "                action_values = self.q_network(state)\n",
    "            # Back to training mode\n",
    "            self.q_network.train()\n",
    "            action = np.argmax(action_values.cpu().data.numpy())\n",
    "            return action    \n",
    "        \n",
    "    def checkpoint(self, filename):\n",
    "        torch.save(self.q_network.state_dict(), filename)"
   ]
  },
  {
   "cell_type": "markdown",
   "id": "dc754fc0",
   "metadata": {},
   "source": [
    "# Train"
   ]
  },
  {
   "cell_type": "code",
   "execution_count": 16,
   "id": "e6f94342",
   "metadata": {},
   "outputs": [],
   "source": [
    "BUFFER_SIZE = int(1e5) # Replay memory size\n",
    "BATCH_SIZE = 64         # Number of experiences to sample from memory\n",
    "GAMMA = 0.99            # Discount factor\n",
    "TAU = 1e-3              # Soft update parameter for updating fixed q network\n",
    "LR = 1e-4               # Q Network learning rate\n",
    "UPDATE_EVERY = 4        # How often to update Q network"
   ]
  },
  {
   "cell_type": "code",
   "execution_count": 17,
   "id": "60b0cd8a",
   "metadata": {},
   "outputs": [],
   "source": [
    "MAX_EPISODES = 2000  # Max number of episodes to play\n",
    "MAX_STEPS = 1000     # Max steps allowed in a single episode/play\n",
    "ENV_SOLVED = 200     # MAX score at which we consider environment to be solved\n",
    "PRINT_EVERY = 100    # How often to print the progress\n",
    "\n",
    "# Epsilon schedule\n",
    "\n",
    "EPS_START = 1.0      # Default/starting value of eps\n",
    "EPS_DECAY = 0.999    # Epsilon decay rate\n",
    "EPS_MIN = 0.01       # Minimum epsilon "
   ]
  },
  {
   "cell_type": "code",
   "execution_count": null,
   "id": "d6ae3009",
   "metadata": {},
   "outputs": [],
   "source": [
    "EPS_DECAY_RATES = [0.9, 0.99, 0.999, 0.9999]\n",
    "plt.figure(figsize=(10,6))\n",
    "\n",
    "for decay_rate in EPS_DECAY_RATES:\n",
    "    test_eps = EPS_START\n",
    "    eps_list = []\n",
    "    for _ in range(MAX_EPISODES):\n",
    "        test_eps = max(test_eps * decay_rate, EPS_MIN)\n",
    "        eps_list.append(test_eps)          \n",
    "    \n",
    "    plt.plot(eps_list, label='decay rate: {}'.format(decay_rate))\n",
    "\n",
    "plt.title('Effect of various decay rates')\n",
    "plt.legend(loc='best')\n",
    "plt.xlabel('# of episodes')\n",
    "plt.ylabel('epsilon')\n",
    "plt.show()"
   ]
  },
  {
   "cell_type": "code",
   "execution_count": 18,
   "id": "20d6ddc5",
   "metadata": {},
   "outputs": [
    {
     "name": "stdout",
     "output_type": "stream",
     "text": [
      "State size: 8, action size: 4\n"
     ]
    }
   ],
   "source": [
    "state_size = env.observation_space.shape[0]\n",
    "action_size = env.action_space.n\n",
    "\n",
    "print('State size: {}, action size: {}'.format(state_size, action_size))"
   ]
  },
  {
   "cell_type": "code",
   "execution_count": 19,
   "id": "1d17106a",
   "metadata": {},
   "outputs": [],
   "source": [
    "dqn_agent = DQNAgent(state_size, action_size, seed=0)"
   ]
  },
  {
   "cell_type": "code",
   "execution_count": 20,
   "id": "865b2ed3",
   "metadata": {},
   "outputs": [
    {
     "ename": "ValueError",
     "evalue": "too many values to unpack (expected 4)",
     "output_type": "error",
     "traceback": [
      "\u001b[1;31m---------------------------------------------------------------------------\u001b[0m",
      "\u001b[1;31mValueError\u001b[0m                                Traceback (most recent call last)",
      "\u001b[1;32m~\\AppData\\Local\\Temp\\ipykernel_16516\\1610784919.py\u001b[0m in \u001b[0;36m<module>\u001b[1;34m\u001b[0m\n\u001b[0;32m      9\u001b[0m     \u001b[1;32mfor\u001b[0m \u001b[0mt\u001b[0m \u001b[1;32min\u001b[0m \u001b[0mrange\u001b[0m\u001b[1;33m(\u001b[0m\u001b[0mMAX_STEPS\u001b[0m\u001b[1;33m)\u001b[0m\u001b[1;33m:\u001b[0m\u001b[1;33m\u001b[0m\u001b[1;33m\u001b[0m\u001b[0m\n\u001b[0;32m     10\u001b[0m         \u001b[0maction\u001b[0m \u001b[1;33m=\u001b[0m \u001b[0mdqn_agent\u001b[0m\u001b[1;33m.\u001b[0m\u001b[0mact\u001b[0m\u001b[1;33m(\u001b[0m\u001b[0mstate\u001b[0m\u001b[1;33m,\u001b[0m \u001b[0meps\u001b[0m\u001b[1;33m)\u001b[0m\u001b[1;33m\u001b[0m\u001b[1;33m\u001b[0m\u001b[0m\n\u001b[1;32m---> 11\u001b[1;33m         \u001b[0mnext_state\u001b[0m\u001b[1;33m,\u001b[0m \u001b[0mreward\u001b[0m\u001b[1;33m,\u001b[0m \u001b[0mdone\u001b[0m\u001b[1;33m,\u001b[0m \u001b[0minfo\u001b[0m \u001b[1;33m=\u001b[0m \u001b[0menv\u001b[0m\u001b[1;33m.\u001b[0m\u001b[0mstep\u001b[0m\u001b[1;33m(\u001b[0m\u001b[0maction\u001b[0m\u001b[1;33m)\u001b[0m\u001b[1;33m\u001b[0m\u001b[1;33m\u001b[0m\u001b[0m\n\u001b[0m\u001b[0;32m     12\u001b[0m         \u001b[0mdqn_agent\u001b[0m\u001b[1;33m.\u001b[0m\u001b[0mstep\u001b[0m\u001b[1;33m(\u001b[0m\u001b[0mstate\u001b[0m\u001b[1;33m,\u001b[0m \u001b[0maction\u001b[0m\u001b[1;33m,\u001b[0m \u001b[0mreward\u001b[0m\u001b[1;33m,\u001b[0m \u001b[0mnext_state\u001b[0m\u001b[1;33m,\u001b[0m \u001b[0mdone\u001b[0m\u001b[1;33m)\u001b[0m\u001b[1;33m\u001b[0m\u001b[1;33m\u001b[0m\u001b[0m\n\u001b[0;32m     13\u001b[0m         \u001b[0mstate\u001b[0m \u001b[1;33m=\u001b[0m \u001b[0mnext_state\u001b[0m\u001b[1;33m\u001b[0m\u001b[1;33m\u001b[0m\u001b[0m\n",
      "\u001b[1;31mValueError\u001b[0m: too many values to unpack (expected 4)"
     ]
    }
   ],
   "source": [
    "start = time()\n",
    "scores = []\n",
    "# Maintain a list of last 100 scores\n",
    "scores_window = deque(maxlen=100)\n",
    "eps = EPS_START\n",
    "for episode in range(1, MAX_EPISODES + 1):\n",
    "    state = env.reset()\n",
    "    score = 0\n",
    "    for t in range(MAX_STEPS):\n",
    "        action = dqn_agent.act(state, eps)\n",
    "        next_state, reward, done, info = env.step(action)\n",
    "        dqn_agent.step(state, action, reward, next_state, done)\n",
    "        state = next_state        \n",
    "        score += reward        \n",
    "        if done:\n",
    "            break\n",
    "            \n",
    "        eps = max(eps * EPS_DECAY, EPS_MIN)\n",
    "        if episode % PRINT_EVERY == 0:\n",
    "            mean_score = np.mean(scores_window)\n",
    "            print('\\r Progress {}/{}, average score:{:.2f}'.format(episode, MAX_EPISODES, mean_score), end=\"\")\n",
    "        if score >= ENV_SOLVED:\n",
    "            mean_score = np.mean(scores_window)\n",
    "            print('\\rEnvironment solved in {} episodes, average score: {:.2f}'.format(episode, mean_score), end=\"\")\n",
    "            sys.stdout.flush()\n",
    "            dqn_agent.checkpoint('solved_200.pth')\n",
    "            break\n",
    "            \n",
    "    scores_window.append(score)\n",
    "    scores.append(score)\n",
    "    \n",
    "end = time()    \n",
    "print('Took {} seconds'.format(end - start))"
   ]
  },
  {
   "cell_type": "code",
   "execution_count": null,
   "id": "599a7767",
   "metadata": {},
   "outputs": [],
   "source": []
  }
 ],
 "metadata": {
  "kernelspec": {
   "display_name": "Python 3 (ipykernel)",
   "language": "python",
   "name": "python3"
  },
  "language_info": {
   "codemirror_mode": {
    "name": "ipython",
    "version": 3
   },
   "file_extension": ".py",
   "mimetype": "text/x-python",
   "name": "python",
   "nbconvert_exporter": "python",
   "pygments_lexer": "ipython3",
   "version": "3.9.13"
  }
 },
 "nbformat": 4,
 "nbformat_minor": 5
}
